{
 "cells": [
  {
   "cell_type": "code",
   "execution_count": null,
   "metadata": {},
   "outputs": [],
   "source": [
    "import torch\n",
    "from torch.utils.data import random_split\n",
    "from torch.utils.data import DataLoader\n",
    "import matplotlib.pyplot as plt\n",
    "import random\n",
    "from datasets import *\n",
    "from e2c_model import E2C\n",
    "from train_e2c import evaluate\n",
    "model = E2C(1600,2,2,'planar').cuda()\n",
    "model.load_state_dict(torch.jit.load('result/planar/logs/model_2000'))"
   ]
  },
  {
   "cell_type": "code",
   "execution_count": 2,
   "metadata": {},
   "outputs": [],
   "source": [
    "batch_size = 128\n",
    "propor = 3/4\n",
    "dataset = PlanarDataset('./data/planar')\n",
    "train_set, test_set = dataset[:int(len(dataset) * propor)], dataset[int(len(dataset) * propor):]\n",
    "test_loader = DataLoader(test_set, batch_size=batch_size, shuffle=False, drop_last=False, num_workers=8)"
   ]
  },
  {
   "cell_type": "code",
   "execution_count": 4,
   "metadata": {},
   "outputs": [
    {
     "name": "stdout",
     "output_type": "stream",
     "text": [
      "196\n",
      "State loss: 11.395704866850647\n",
      "Next state loss: 7.134127792809306\n"
     ]
    }
   ],
   "source": [
    "print(len(test_loader))\n",
    "state_loss, next_state_loss = evaluate(model, test_loader)\n",
    "print ('State loss: ' + str(state_loss))\n",
    "print ('Next state loss: ' + str(next_state_loss))"
   ]
  },
  {
   "cell_type": "code",
   "execution_count": 5,
   "metadata": {},
   "outputs": [
    {
     "data": {
      "image/png": "[encoded data removed]",
      "text/plain": [
       "<Figure size 720x720 with 8 Axes>"
      ]
     },
     "metadata": {},
     "output_type": "display_data"
    },
    {
     "name": "stdout",
     "output_type": "stream",
     "text": [
      "Error (fake Jacobian): 0.028075355546437485\n",
      "Error (true Jacobian): 0.03323110690101067\n"
     ]
    }
   ],
   "source": [
    "from normal import NormalDistribution\n",
    "\n",
    "\n",
    "rand_idx = random.randint(0, len(test_set))\n",
    "x, u, x_next = test_set[rand_idx]\n",
    "with torch.no_grad():\n",
    "    u_pt = torch.Tensor(u).unsqueeze(0).double().cuda()\n",
    "    x_recon, x_next_pred, q_z, q_z_next_pred, _ = model(\n",
    "        x.unsqueeze(0).view(-1,1600).double().cuda(),\n",
    "        u_pt,\n",
    "        x.unsqueeze(0).view(-1,1600).double().cuda())\n",
    "    \n",
    "    q_z_mean = q_z.mean\n",
    "    q_z_std = torch.exp(0.5 * q_z.logvar)\n",
    "\n",
    "    dz = torch.randn(q_z_mean.shape, device='cuda') * 0.3\n",
    "    q_z_p = NormalDistribution(q_z_mean + dz, q_z.logvar)\n",
    "\n",
    "    z_p_next_mean_fakejac, _ = model.transition(q_z_mean, q_z_p, u_pt)\n",
    "    q_z_p_next_mean, _ = model.transition(q_z_p.mean, q_z_p, u_pt)\n",
    "    z_next_mean, dz_next_mean_jac = torch.autograd.functional.jvp(\n",
    "        lambda z_ag: model.transition(z_ag, NormalDistribution(z_ag, q_z.logvar), u_pt)[0],\n",
    "        (q_z_mean,),\n",
    "        (dz,)\n",
    "    )\n",
    "    z_p_next_mean_jac = z_next_mean + dz_next_mean_jac\n",
    "\n",
    "    x_p = model.decode(q_z_p.mean)\n",
    "    x_p_next = model.decode(q_z_p_next_mean)\n",
    "    x_p_next_fakejac = model.decode(z_p_next_mean_fakejac)\n",
    "    x_p_next_jacpredict = model.decode(z_p_next_mean_jac)\n",
    "\n",
    "plt.show()\n",
    "f, axarr = plt.subplots(4,2, figsize=(10,10))\n",
    "plt.setp(axarr, xticks=[], yticks=[])\n",
    "axarr[0, 0].imshow(x.squeeze(), cmap='gray')\n",
    "axarr[0, 1].imshow(x_next.squeeze(), cmap='gray')\n",
    "axarr[0, 0].set_title('Original')\n",
    "axarr[0, 1].set_title('True next')\n",
    "\n",
    "axarr[1, 0].imshow(x_recon.squeeze().view(40, 40).cpu(), cmap='gray')\n",
    "axarr[1, 1].imshow(x_next_pred.squeeze().view(40,40).cpu(), cmap='gray')\n",
    "axarr[1, 0].set_title('Encode -> Decode')\n",
    "axarr[1, 1].set_title('Encode -> Transition -> Decode')\n",
    "\n",
    "\n",
    "axarr[2, 0].imshow(x_p.squeeze().view(40,40).cpu(), cmap='gray')\n",
    "axarr[2, 1].imshow(x_p_next.squeeze().view(40,40).cpu(), cmap='gray')\n",
    "axarr[2, 0].set_title('Encode -> +dz -> Decode')\n",
    "axarr[2, 1].set_title('Encode -> +dz -> Transition -> Decode')\n",
    "\n",
    "axarr[3, 0].imshow(x_p_next_fakejac.squeeze().view(40,40).cpu(), cmap='gray')\n",
    "axarr[3, 1].imshow(x_p_next_jacpredict.squeeze().view(40,40).cpu(), cmap='gray')\n",
    "axarr[3, 0].set_title('Encode -> +dz -> Transition (fake Jacobian) -> Decode')\n",
    "axarr[3, 1].set_title('Encode -> +dz -> Transition (true Jacobian) -> Decode')\n",
    "\n",
    "plt.show()\n",
    "\n",
    "print(\"Error (fake Jacobian):\", (q_z_p_next_mean - z_p_next_mean_jac).pow(2).sum().sqrt().item())\n",
    "print(\"Error (true Jacobian):\", (q_z_p_next_mean - z_p_next_mean_fakejac).pow(2).sum().sqrt().item())"
   ]
  }
 ],
 "metadata": {
  "kernelspec": {
   "display_name": "Python 3.6.8 ('e2c')",
   "language": "python",
   "name": "python3"
  },
  "language_info": {
   "codemirror_mode": {
    "name": "ipython",
    "version": 3
   },
   "file_extension": ".py",
   "mimetype": "text/x-python",
   "name": "python",
   "nbconvert_exporter": "python",
   "pygments_lexer": "ipython3",
   "version": "3.6.10"
  },
  "orig_nbformat": 4,
  "vscode": {
   "interpreter": {
    "hash": "d3ee896b84caa33ba4a0369bf599f2e5373ade8d58bd4e1b00b0204f1a4684f0"
   }
  }
 },
 "nbformat": 4,
 "nbformat_minor": 2
}
